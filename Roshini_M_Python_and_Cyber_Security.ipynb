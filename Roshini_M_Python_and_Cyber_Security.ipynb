{
  "nbformat": 4,
  "nbformat_minor": 0,
  "metadata": {
    "colab": {
      "name": "Roshini M_Python_and_Cyber Security.ipynb",
      "provenance": [],
      "collapsed_sections": []
    },
    "kernelspec": {
      "name": "python3",
      "display_name": "Python 3"
    },
    "language_info": {
      "name": "python"
    }
  },
  "cells": [
    {
      "cell_type": "markdown",
      "metadata": {
        "id": "9gZFkJJWsi8N"
      },
      "source": [
        "# Weather details using third party API"
      ]
    },
    {
      "cell_type": "markdown",
      "metadata": {
        "id": "leRUquPu45TA"
      },
      "source": [
        "Importing OS:"
      ]
    },
    {
      "cell_type": "code",
      "metadata": {
        "id": "bpaPl4jupQaP"
      },
      "source": [
        "import requests\n",
        "from datetime import datetime"
      ],
      "execution_count": 10,
      "outputs": []
    },
    {
      "cell_type": "code",
      "metadata": {
        "colab": {
          "base_uri": "https://localhost:8080/"
        },
        "id": "faKRao94ukiO",
        "outputId": "7c08a10b-a089-4818-b5dc-134f111bffac"
      },
      "source": [
        "api_key = 'c179c345088762d27d79c8d8099800cf'\n",
        "location = input(\"Enter the city name: \")"
      ],
      "execution_count": 51,
      "outputs": [
        {
          "output_type": "stream",
          "text": [
            "Enter the city name: New Orleans\n"
          ],
          "name": "stdout"
        }
      ]
    },
    {
      "cell_type": "code",
      "metadata": {
        "id": "V0WuzJwLvILo"
      },
      "source": [
        "complete_api_link = \"https://api.openweathermap.org/data/2.5/weather?q=\"+location+\"&appid=\"+api_key\n",
        "api_link = requests.get(complete_api_link)\n",
        "api_data = api_link.json()"
      ],
      "execution_count": 52,
      "outputs": []
    },
    {
      "cell_type": "markdown",
      "metadata": {
        "id": "UhNQImdN5ITU"
      },
      "source": [
        "Creating variables to store and display data:"
      ]
    },
    {
      "cell_type": "code",
      "metadata": {
        "id": "aXSIvKZGwFJ4"
      },
      "source": [
        "temp_city = ((api_data['main']['temp']) - 273.15)\n",
        "weather_desc = api_data['weather'][0]['description']\n",
        "hmdt = api_data['main']['humidity']\n",
        "wind_spd = api_data['wind']['speed']\n",
        "date_time = datetime.now().strftime(\"%d %b %Y  |  %I:%M:%S %p\")"
      ],
      "execution_count": 53,
      "outputs": []
    },
    {
      "cell_type": "markdown",
      "metadata": {
        "id": "WGg8rBpf5qIc"
      },
      "source": [
        "Printing the weather report:"
      ]
    },
    {
      "cell_type": "code",
      "metadata": {
        "colab": {
          "base_uri": "https://localhost:8080/"
        },
        "id": "P_DiqeQDyXkT",
        "outputId": "b5f6e524-fddb-4e7a-efea-ae8b9e65254d"
      },
      "source": [
        "print(\"__________________________________________________________\")\n",
        "print(\"Weather stats for - {}    |    {} \".format(location.upper()  , date_time))\n",
        "print(\"__________________________________________________________\")\n",
        "print(\"Current temperature               : {:.2f}°C\".format(temp_city))\n",
        "print(\"Current Weather description  :\",weather_desc)\n",
        "print(\"Current Humidity                    :\",hmdt, '%')\n",
        "print(\"Current wind speed                 :\",wind_spd,'kmph')\n",
        "print(\"__________________________________________________________\")"
      ],
      "execution_count": 54,
      "outputs": [
        {
          "output_type": "stream",
          "text": [
            "__________________________________________________________\n",
            "Weather stats for - NEW ORLEANS    |    26 Jul 2021  |  05:44:49 PM \n",
            "__________________________________________________________\n",
            "Current temperature               : 33.52°C\n",
            "Current Weather description  : clear sky\n",
            "Current Humidity                    : 57 %\n",
            "Current wind speed                 : 1.34 kmph\n",
            "__________________________________________________________\n"
          ],
          "name": "stdout"
        }
      ]
    },
    {
      "cell_type": "markdown",
      "metadata": {
        "id": "_MjVBzfQ6B8p"
      },
      "source": [
        "Making a list to print the info as a text:"
      ]
    },
    {
      "cell_type": "code",
      "metadata": {
        "id": "1sr-krzg1xBg"
      },
      "source": [
        "txtlist = [temp_city,weather_desc,hmdt,wind_spd,date_time]\n",
        "with open(\"weather.txt\", mode= 'w' , encoding = 'cp1252') as f:\n",
        "  f.write(\"_______________________________________________________\\n\")\n",
        "  f.write(\"Weather Stats for - {}   ||   {}\".format(location.upper(), date_time))\n",
        "  f.write(\"\\n_______________________________________________________\\n\")\n",
        "  f.write(\"Current temperature: {:.2f}°C\\n\".format(txtlist[0]))\n",
        "\n",
        "  f.write(\"{} , {} \\n\".format(\"Current weather description   :\",txtlist[1]))\n",
        "  f.write(\"{} , {} , {} \\n\".format(\"Current Humidity                   :\",txtlist[2],\"%\"))\n",
        "  f.write(\"{} , {} , {} \\n\".format(\"Current wind speed                :\",txtlist[3],\"kmph\"))\n",
        "  f.write(\"_______________________________________________________\")\n"
      ],
      "execution_count": 55,
      "outputs": []
    }
  ]
}